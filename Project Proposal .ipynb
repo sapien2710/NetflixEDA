{
 "cells": [
  {
   "cell_type": "markdown",
   "id": "d8687a66-00a9-4570-97fb-1a134ff4fc3f",
   "metadata": {},
   "source": [
    "Motivation: \n",
    "\n",
    "Our team picked the Netflix Dataset. The data set contains information about all the content that netflix has on all of its platforms (all countries included). Some of the interesting features of this data include: Title, Genre, Tags, User Ratings, Cast, Revenue, Critic ratings. These are a few of the 26 features of the data. \n",
    "\n",
    "What we noticed as a group is how the recipe for a successful movie changes from region to region. Through our EDA project we would like to explore these differences. The aim of our EDA is to visualize the relationship between these attributes with the perception of the movies (user/critic ratings) and establish some sort of a pattern. \n",
    "\n",
    "At the end of the analysis, we would like to be able to make recommendations to Netflix about its future content. "
   ]
  },
  {
   "cell_type": "markdown",
   "id": "b89790f4-8e3d-49c5-92ae-d5c3d745b410",
   "metadata": {},
   "source": [
    "Related Work: \n",
    "\n",
    "Both of us are movie buffs and are very appreciative of quality content regardless of the language or genres. This affinity towards the entertainment sector prompted us to dig deeper into what makes movies a success and how success requires different recipes depending on where we come from (India and China). "
   ]
  },
  {
   "cell_type": "markdown",
   "id": "9195a605-d621-4440-a8c2-d424ffdd99db",
   "metadata": {},
   "source": [
    "Data:\n",
    "\n",
    "The datasheet is one large table. The data was downloaded from Kaggle Datasets. It is in CSV form. The dataset has 29 columns and 15481 rows. The data needs a bit of cleaning (Date formatting, currency formatting, null values."
   ]
  },
  {
   "cell_type": "markdown",
   "id": "90b3c2b8-80c4-43b1-b3c9-c1f331c41d7f",
   "metadata": {},
   "source": [
    "Questions: \n",
    "\n",
    "These are a few of the questions that we would like to answer.\n",
    "\n",
    "1. What genres and tags are the most successful with the audiences in different countries?\n",
    "If we make a pivot table with the genres as rows and average user ratings as columns, we will observe a pattern. \n",
    "\n",
    "2. Is there a dispersion between the audience and critic ratings for these movies?\n",
    "We can plot the difference in ratings on the X axis and revenue on Y axis. The scatter plot of movies on this graph will allow us to identify the movies that did well in spite of tanking with the critics.\n",
    "\n",
    "3. Are these successful movies (with high user ratings) also making good revenue?\n",
    "\n",
    "4. For a particular country, are Netflix originals performing better than the local content?\n",
    "If we filter out the movies that have the same Netflix Release Data and Release Date, we will be able to single out the Netflix originals. Then, for each country we can plot the movies against different success parameters and evaluate a pattern.\n",
    "\n",
    "5. Does the relationship between critic ratings and awards received standard or varying with countries?\n",
    "\n",
    "6. Is there an ideal run time for a successful movie?\n",
    "\n",
    "7. Is there a correlation between successful movies and the actors and directors involved with it?"
   ]
  },
  {
   "cell_type": "markdown",
   "id": "98ec5fc3-7b16-4621-bdf7-180afd239c61",
   "metadata": {},
   "source": [
    "Possible Findings and Implications: \n",
    "\n",
    "After a brief analysis of the data, we aspire to have a general idea as to what composition of movies works for different countries. Some countries (like India) may be more inclined towards movies with genres like Romance with tags such as drama, romantic show and actors like Ayushmann Khurranaa and vastly different for other countries.\n",
    "\n",
    "Countries like Sweden may have a high degree of success with the Netflix Originals (in terms of revenues) whereas countries like Japan may have a lot of local content for Netflix Originals to hit big. \n",
    "\n",
    "Overall, we hope to gain information that would allow us to give some actionable insights to the CEO of Netflix.\n"
   ]
  },
  {
   "cell_type": "markdown",
   "id": "da8edb96-e890-438d-bb36-964879b9a076",
   "metadata": {},
   "source": []
  }
 ],
 "metadata": {
  "kernelspec": {
   "display_name": "Python 3 (ipykernel)",
   "language": "python",
   "name": "python3"
  },
  "language_info": {
   "codemirror_mode": {
    "name": "ipython",
    "version": 3
   },
   "file_extension": ".py",
   "mimetype": "text/x-python",
   "name": "python",
   "nbconvert_exporter": "python",
   "pygments_lexer": "ipython3",
   "version": "3.8.12"
  }
 },
 "nbformat": 4,
 "nbformat_minor": 5
}
